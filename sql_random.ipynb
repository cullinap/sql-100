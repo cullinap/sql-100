{
 "cells": [
  {
   "cell_type": "code",
   "execution_count": 1,
   "metadata": {},
   "outputs": [],
   "source": [
    "%run initialise.py"
   ]
  },
  {
   "cell_type": "code",
   "execution_count": 2,
   "metadata": {},
   "outputs": [],
   "source": [
    "intializeSQL()"
   ]
  },
  {
   "cell_type": "markdown",
   "metadata": {},
   "source": [
    "# 100 random exercises\n",
    "\n",
    "Lorem Ipsum"
   ]
  },
  {
   "cell_type": "code",
   "execution_count": 3,
   "metadata": {},
   "outputs": [],
   "source": [
    "from sqlalchemy import create_engine\n",
    "engine = create_engine('sqlite://', echo=False)\n",
    "import pandas as pd \n",
    "engine.execute('DROP TABLE IF EXISTS df1;') \n",
    "engine.execute('DROP TABLE IF EXISTS df2;') \n",
    "url1 = \"https://raw.githubusercontent.com/CSSEGISandData/COVID-19/master/csse_covid_19_data/csse_covid_19_daily_reports/12-31-2020.csv\" \n",
    "url2 = \"https://raw.githubusercontent.com/CSSEGISandData/COVID-19/master/csse_covid_19_data/csse_covid_19_daily_reports/12-27-2020.csv\"\n",
    "df1 = pd.read_csv(url1)\n",
    "df2 = pd.read_csv(url2)\n",
    "df1.to_sql('df1',con=engine)\n",
    "df2.to_sql('df2',con=engine)"
   ]
  },
  {
   "cell_type": "code",
   "execution_count": 8,
   "metadata": {},
   "outputs": [
    {
     "name": "stdout",
     "output_type": "stream",
     "text": [
      "2. find all the records in df1 where deaths are greater than 50,000\n"
     ]
    }
   ],
   "source": [
    "pickSQL()"
   ]
  },
  {
   "cell_type": "code",
   "execution_count": 11,
   "metadata": {},
   "outputs": [
    {
     "data": {
      "text/html": [
       "<div>\n",
       "<style scoped>\n",
       "    .dataframe tbody tr th:only-of-type {\n",
       "        vertical-align: middle;\n",
       "    }\n",
       "\n",
       "    .dataframe tbody tr th {\n",
       "        vertical-align: top;\n",
       "    }\n",
       "\n",
       "    .dataframe thead th {\n",
       "        text-align: right;\n",
       "    }\n",
       "</style>\n",
       "<table border=\"1\" class=\"dataframe\">\n",
       "  <thead>\n",
       "    <tr style=\"text-align: right;\">\n",
       "      <th></th>\n",
       "      <th>FIPS</th>\n",
       "      <th>Admin2</th>\n",
       "      <th>Province_State</th>\n",
       "      <th>Country_Region</th>\n",
       "      <th>Last_Update</th>\n",
       "      <th>Lat</th>\n",
       "      <th>Long_</th>\n",
       "      <th>Confirmed</th>\n",
       "      <th>Deaths</th>\n",
       "      <th>Recovered</th>\n",
       "      <th>Active</th>\n",
       "      <th>Combined_Key</th>\n",
       "      <th>Incident_Rate</th>\n",
       "      <th>Case_Fatality_Ratio</th>\n",
       "    </tr>\n",
       "  </thead>\n",
       "  <tbody>\n",
       "    <tr>\n",
       "      <th>0</th>\n",
       "      <td>NaN</td>\n",
       "      <td>NaN</td>\n",
       "      <td>NaN</td>\n",
       "      <td>Afghanistan</td>\n",
       "      <td>2021-01-01 05:23:07</td>\n",
       "      <td>33.93911</td>\n",
       "      <td>67.709953</td>\n",
       "      <td>51526</td>\n",
       "      <td>2191</td>\n",
       "      <td>41727</td>\n",
       "      <td>0.0</td>\n",
       "      <td>Afghanistan</td>\n",
       "      <td>0.000000</td>\n",
       "      <td>4.252222</td>\n",
       "    </tr>\n",
       "    <tr>\n",
       "      <th>1</th>\n",
       "      <td>NaN</td>\n",
       "      <td>NaN</td>\n",
       "      <td>NaN</td>\n",
       "      <td>Albania</td>\n",
       "      <td>2021-01-01 05:23:07</td>\n",
       "      <td>41.15330</td>\n",
       "      <td>20.168300</td>\n",
       "      <td>58316</td>\n",
       "      <td>1181</td>\n",
       "      <td>33634</td>\n",
       "      <td>23501.0</td>\n",
       "      <td>Albania</td>\n",
       "      <td>2026.409062</td>\n",
       "      <td>2.025173</td>\n",
       "    </tr>\n",
       "    <tr>\n",
       "      <th>2</th>\n",
       "      <td>NaN</td>\n",
       "      <td>NaN</td>\n",
       "      <td>NaN</td>\n",
       "      <td>Algeria</td>\n",
       "      <td>2021-01-01 05:23:07</td>\n",
       "      <td>28.03390</td>\n",
       "      <td>1.659600</td>\n",
       "      <td>99610</td>\n",
       "      <td>2756</td>\n",
       "      <td>67127</td>\n",
       "      <td>29727.0</td>\n",
       "      <td>Algeria</td>\n",
       "      <td>227.155372</td>\n",
       "      <td>2.766790</td>\n",
       "    </tr>\n",
       "    <tr>\n",
       "      <th>3</th>\n",
       "      <td>NaN</td>\n",
       "      <td>NaN</td>\n",
       "      <td>NaN</td>\n",
       "      <td>Andorra</td>\n",
       "      <td>2021-01-01 05:23:07</td>\n",
       "      <td>42.50630</td>\n",
       "      <td>1.521800</td>\n",
       "      <td>8049</td>\n",
       "      <td>84</td>\n",
       "      <td>7432</td>\n",
       "      <td>533.0</td>\n",
       "      <td>Andorra</td>\n",
       "      <td>10417.394681</td>\n",
       "      <td>1.043608</td>\n",
       "    </tr>\n",
       "    <tr>\n",
       "      <th>4</th>\n",
       "      <td>NaN</td>\n",
       "      <td>NaN</td>\n",
       "      <td>NaN</td>\n",
       "      <td>Angola</td>\n",
       "      <td>2021-01-01 05:23:07</td>\n",
       "      <td>-11.20270</td>\n",
       "      <td>17.873900</td>\n",
       "      <td>17553</td>\n",
       "      <td>405</td>\n",
       "      <td>11044</td>\n",
       "      <td>6104.0</td>\n",
       "      <td>Angola</td>\n",
       "      <td>53.407342</td>\n",
       "      <td>2.307298</td>\n",
       "    </tr>\n",
       "  </tbody>\n",
       "</table>\n",
       "</div>"
      ],
      "text/plain": [
       "   FIPS Admin2 Province_State Country_Region          Last_Update       Lat  \\\n",
       "0   NaN    NaN            NaN    Afghanistan  2021-01-01 05:23:07  33.93911   \n",
       "1   NaN    NaN            NaN        Albania  2021-01-01 05:23:07  41.15330   \n",
       "2   NaN    NaN            NaN        Algeria  2021-01-01 05:23:07  28.03390   \n",
       "3   NaN    NaN            NaN        Andorra  2021-01-01 05:23:07  42.50630   \n",
       "4   NaN    NaN            NaN         Angola  2021-01-01 05:23:07 -11.20270   \n",
       "\n",
       "       Long_  Confirmed  Deaths  Recovered   Active Combined_Key  \\\n",
       "0  67.709953      51526    2191      41727      0.0  Afghanistan   \n",
       "1  20.168300      58316    1181      33634  23501.0      Albania   \n",
       "2   1.659600      99610    2756      67127  29727.0      Algeria   \n",
       "3   1.521800       8049      84       7432    533.0      Andorra   \n",
       "4  17.873900      17553     405      11044   6104.0       Angola   \n",
       "\n",
       "   Incident_Rate  Case_Fatality_Ratio  \n",
       "0       0.000000             4.252222  \n",
       "1    2026.409062             2.025173  \n",
       "2     227.155372             2.766790  \n",
       "3   10417.394681             1.043608  \n",
       "4      53.407342             2.307298  "
      ]
     },
     "execution_count": 11,
     "metadata": {},
     "output_type": "execute_result"
    }
   ],
   "source": [
    "df1.head(5)"
   ]
  },
  {
   "cell_type": "code",
   "execution_count": 26,
   "metadata": {},
   "outputs": [
    {
     "data": {
      "text/plain": [
       "[('Argentina', 42650),\n",
       " ('Argentina', 43245),\n",
       " ('Brazil', 45863),\n",
       " ('Brazil', 46717),\n",
       " ('France', 62382),\n",
       " ('France', 64267),\n",
       " ('India', 49255),\n",
       " ('India', 49463),\n",
       " ('Iran', 54693),\n",
       " ('Iran', 55223),\n",
       " ('Peru', 41907),\n",
       " ('Peru', 42125),\n",
       " ('United Kingdom', 61697),\n",
       " ('United Kingdom', 64118)]"
      ]
     },
     "execution_count": 26,
     "metadata": {},
     "output_type": "execute_result"
    }
   ],
   "source": [
    "engine.execute(\n",
    "    '''\n",
    "    select Country_Region, Deaths from df1\n",
    "    where Deaths > 40000\n",
    "    union\n",
    "    select Country_Region, Deaths from df2\n",
    "    where Deaths > 40000\n",
    "    '''\n",
    ").fetchall()"
   ]
  },
  {
   "cell_type": "code",
   "execution_count": null,
   "metadata": {},
   "outputs": [],
   "source": [
    "# combine sql statement with a python workout question"
   ]
  }
 ],
 "metadata": {
  "kernelspec": {
   "display_name": "Python 3",
   "language": "python",
   "name": "python3"
  },
  "language_info": {
   "codemirror_mode": {
    "name": "ipython",
    "version": 3
   },
   "file_extension": ".py",
   "mimetype": "text/x-python",
   "name": "python",
   "nbconvert_exporter": "python",
   "pygments_lexer": "ipython3",
   "version": "3.8.5"
  }
 },
 "nbformat": 4,
 "nbformat_minor": 4
}
